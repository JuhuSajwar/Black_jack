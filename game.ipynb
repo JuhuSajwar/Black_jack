{
 "cells": [
  {
   "cell_type": "code",
   "execution_count": 13,
   "metadata": {},
   "outputs": [
    {
     "name": "stdout",
     "output_type": "stream",
     "text": [
      "Your cards:[10, 7] and current score: 17\n",
      "computer's first card:10\n"
     ]
    }
   ],
   "source": [
    "import random\n",
    "\n",
    "def deal_card():\n",
    "    cards=[11,2,3,4,5,6,7,8,9,10,10,10,10]\n",
    "    card= random.choice(cards)\n",
    "    return card\n",
    "\n",
    "def calculate_score(cards):\n",
    "    if sum(cards) == 21 and len(cards) == 2:\n",
    "        return 0\n",
    "    \n",
    "    if 11 in cards and sum(cards) > 21:\n",
    "        cards.remove(11)\n",
    "        cards.append(1)\n",
    "    \n",
    "    return sum(cards) \n",
    "\n",
    "user_cards = []\n",
    "computer_cards = []\n",
    "is_game_over = False\n",
    "\n",
    "for i in range(2):\n",
    "    user_cards.append(deal_card())\n",
    "    computer_cards.append(deal_card())\n",
    "    \n",
    "user_score = calculate_score(user_cards)\n",
    "computer_score = calculate_score(computer_cards) \n",
    "\n",
    "print(f\"Your cards:{user_cards} and current score: {user_score}\")\n",
    "print(f\"computer's first card:{computer_cards[0]}\")\n",
    "\n",
    "if user_score == 0 or computer_score == 0 or user_score > 21:\n",
    "    is_game_over = True \n",
    "else: "
   ]
  }
 ],
 "metadata": {
  "kernelspec": {
   "display_name": "Python 3",
   "language": "python",
   "name": "python3"
  },
  "language_info": {
   "codemirror_mode": {
    "name": "ipython",
    "version": 3
   },
   "file_extension": ".py",
   "mimetype": "text/x-python",
   "name": "python",
   "nbconvert_exporter": "python",
   "pygments_lexer": "ipython3",
   "version": "3.9.6"
  }
 },
 "nbformat": 4,
 "nbformat_minor": 2
}
